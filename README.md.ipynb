{
 "cells": [
  {
   "cell_type": "markdown",
   "id": "dfa75baa",
   "metadata": {},
   "source": [
    "Directions (Kaitlyn):\n",
    "\n",
    "\n",
    "Member Contributions:\n",
    "\n",
    "\n",
    "Abstract (Sydney):"
   ]
  }
 ],
 "metadata": {
  "kernelspec": {
   "display_name": "Python 3.10",
   "language": "python",
   "name": "python3.10"
  },
  "language_info": {
   "codemirror_mode": {
    "name": "ipython",
    "version": 3
   },
   "file_extension": ".py",
   "mimetype": "text/x-python",
   "name": "python",
   "nbconvert_exporter": "python",
   "pygments_lexer": "ipython3",
   "version": "3.10.12"
  }
 },
 "nbformat": 4,
 "nbformat_minor": 5
}
